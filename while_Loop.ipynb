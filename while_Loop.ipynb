{
  "cells": [
    {
      "cell_type": "markdown",
      "metadata": {
        "id": "view-in-github",
        "colab_type": "text"
      },
      "source": [
        "<a href=\"https://colab.research.google.com/github/Sangitakumarik/Sangita/blob/main/while_Loop.ipynb\" target=\"_parent\"><img src=\"https://colab.research.google.com/assets/colab-badge.svg\" alt=\"Open In Colab\"/></a>"
      ]
    },
    {
      "cell_type": "markdown",
      "metadata": {
        "id": "ldQrxUcE_p5z"
      },
      "source": [
        "## While Loop\n",
        "\n",
        "* While loop is exicuted when the condition is true.and when the condition becomes false, the interprater becomes out of the while loop. "
      ]
    },
    {
      "cell_type": "code",
      "execution_count": null,
      "metadata": {
        "colab": {
          "base_uri": "https://localhost:8080/"
        },
        "id": "GoZNCqRpBCEg",
        "outputId": "6aca7bfa-c9d4-4501-d61f-37b57bc12110"
      },
      "outputs": [
        {
          "name": "stdout",
          "output_type": "stream",
          "text": [
            "1\n",
            "2\n",
            "3\n",
            "4\n",
            "5\n"
          ]
        }
      ],
      "source": [
        "i=0\n",
        "while (i<5):\n",
        "  i=i+1\n",
        "  print(i)"
      ]
    },
    {
      "cell_type": "code",
      "execution_count": null,
      "metadata": {
        "colab": {
          "base_uri": "https://localhost:8080/"
        },
        "id": "Yz67kG3t_iuC",
        "outputId": "7e85aeb4-e178-4c71-a0ef-2f9e896835cc"
      },
      "outputs": [
        {
          "name": "stdout",
          "output_type": "stream",
          "text": [
            "0\n",
            "1\n",
            "2\n",
            "0\n",
            "1\n",
            "2\n",
            "3\n"
          ]
        }
      ],
      "source": [
        "for i in range(3):\n",
        "  print(i)\n",
        "  i=0\n",
        "while(i<=3):  \n",
        "  print(i)\n",
        "  i =i+1"
      ]
    },
    {
      "cell_type": "code",
      "execution_count": null,
      "metadata": {
        "colab": {
          "base_uri": "https://localhost:8080/"
        },
        "id": "H7RlypJhBUH4",
        "outputId": "92daac41-e21a-41b6-e1a7-901fa5ce6291"
      },
      "outputs": [
        {
          "name": "stdout",
          "output_type": "stream",
          "text": [
            "Enter a no: 4\n",
            "Enter the no. : 5\n",
            "5\n",
            "Enter the no. : 6\n",
            "6\n",
            "Enter the no. : 38\n",
            "38\n",
            "done with the while loop\n"
          ]
        }
      ],
      "source": [
        "\n",
        "i = int(input(\"Enter a no: \"))\n",
        "while(i<=35):\n",
        "  i = int(input(\"Enter the no. : \"))\n",
        "  print(i)\n",
        "print(\"done with the while loop\")\n"
      ]
    },
    {
      "cell_type": "code",
      "execution_count": null,
      "metadata": {
        "colab": {
          "base_uri": "https://localhost:8080/"
        },
        "id": "0gXwRYTRCEYB",
        "outputId": "1eb1f924-666d-4c8b-ff56-0bd9e8143f0e"
      },
      "outputs": [
        {
          "name": "stdout",
          "output_type": "stream",
          "text": [
            "5\n",
            "4\n",
            "3\n",
            "2\n",
            "1\n"
          ]
        }
      ],
      "source": [
        "c = 5\n",
        "while(c>0):\n",
        "  print(c)\n",
        "  c=c-1 # if we put c+1 it will made infinite loop"
      ]
    },
    {
      "cell_type": "code",
      "execution_count": null,
      "metadata": {
        "colab": {
          "base_uri": "https://localhost:8080/"
        },
        "id": "ZCI-MHlICObo",
        "outputId": "136e1f48-7423-4e48-e39f-5030d48a7891"
      },
      "outputs": [
        {
          "name": "stdout",
          "output_type": "stream",
          "text": [
            "input a no: 6\n",
            "6\n",
            "5\n",
            "4\n",
            "3\n",
            "2\n",
            "1\n"
          ]
        }
      ],
      "source": [
        "a = int(input(\"input a no: \"))\n",
        "while(a>0):\n",
        "  print(a)\n",
        "  a=a-1"
      ]
    },
    {
      "cell_type": "code",
      "execution_count": null,
      "metadata": {
        "colab": {
          "base_uri": "https://localhost:8080/"
        },
        "id": "pV1uvaYmC4Mx",
        "outputId": "74af817a-f879-478d-ee62-6e4ba41b9516"
      },
      "outputs": [
        {
          "name": "stdout",
          "output_type": "stream",
          "text": [
            "5\n",
            "4\n",
            "3\n",
            "2\n",
            "1\n",
            "0\n",
            "i am inside else: \n"
          ]
        }
      ],
      "source": [
        "c=5\n",
        "while(c>=0):\n",
        "  print(c)\n",
        "  c=c-1\n",
        "else:\n",
        "  print(\"i am inside else: \")"
      ]
    },
    {
      "cell_type": "code",
      "execution_count": null,
      "metadata": {
        "colab": {
          "background_save": true,
          "base_uri": "https://localhost:8080/"
        },
        "id": "zNgicqljDT1d",
        "outputId": "87a209ad-5775-4450-dae7-22956ae643f6"
      },
      "outputs": [
        {
          "name": "stdout",
          "output_type": "stream",
          "text": [
            "1\n",
            "8\n",
            "27\n",
            "64\n",
            "125\n",
            "216\n",
            "343\n",
            "512\n",
            "729\n",
            "1000\n"
          ]
        }
      ],
      "source": [
        "i = int(input(\"Enter a no: \"))\n",
        "while(i<10):\n",
        "  i = i+1\n",
        "  print(i*i*i)"
      ]
    },
    {
      "cell_type": "markdown",
      "source": [
        "## Break Statement\n",
        "\n",
        "* The break statement enables a program to skip over a part of the code."
      ],
      "metadata": {
        "id": "i1pVw-jmLYwj"
      }
    },
    {
      "cell_type": "code",
      "execution_count": 58,
      "metadata": {
        "id": "21p2mvolD7EO",
        "colab": {
          "base_uri": "https://localhost:8080/"
        },
        "outputId": "59acbe21-e667-42bc-da66-e2d1bebcc510"
      },
      "outputs": [
        {
          "output_type": "stream",
          "name": "stdout",
          "text": [
            "5 X 1 = 5\n",
            "5 X 2 = 10\n",
            "5 X 3 = 15\n",
            "5 X 4 = 20\n",
            "5 X 5 = 25\n",
            "5 X 6 = 30\n",
            "5 X 7 = 35\n",
            "5 X 8 = 40\n",
            "5 X 9 = 45\n",
            "5 X 10 = 50\n",
            "Exited over loop\n"
          ]
        }
      ],
      "source": [
        "for i in range (12):\n",
        "  if(i==10):\n",
        "    break\n",
        "  print('5 X',i+1,'=',5*(i+1))\n",
        "\n",
        "print(\"Skip the loop\")\n"
      ]
    },
    {
      "cell_type": "code",
      "source": [
        "for i in range (12):\n",
        "  if(i==10):\n",
        "    break\n",
        "  print('5 X',i,'=',5*i)\n",
        "\n",
        "print(\"Skip the loop\")\n"
      ],
      "metadata": {
        "colab": {
          "base_uri": "https://localhost:8080/"
        },
        "id": "vIXRBJpqOIVo",
        "outputId": "1a0acecb-9eb5-4618-d40b-62beb83d6ec1"
      },
      "execution_count": 65,
      "outputs": [
        {
          "output_type": "stream",
          "name": "stdout",
          "text": [
            "5 X 0 = 0\n",
            "5 X 1 = 5\n",
            "5 X 2 = 10\n",
            "5 X 3 = 15\n",
            "5 X 4 = 20\n",
            "5 X 5 = 25\n",
            "5 X 6 = 30\n",
            "5 X 7 = 35\n",
            "5 X 8 = 40\n",
            "5 X 9 = 45\n",
            "Skip the loop\n"
          ]
        }
      ]
    },
    {
      "cell_type": "markdown",
      "source": [
        "## Continue \n",
        "* It does not skip over the loop it skips only the pertular iteration."
      ],
      "metadata": {
        "id": "s-U3V43MNYgi"
      }
    },
    {
      "cell_type": "code",
      "source": [
        "for i in range (12):\n",
        "  if(i==10):\n",
        "    print(\"Skip the Iteration\") # iteration skipped\n",
        "    continue \n",
        "  print('5 X',i,'=',5*i)\n",
        "\n"
      ],
      "metadata": {
        "colab": {
          "base_uri": "https://localhost:8080/"
        },
        "id": "w6d9wF7qNX0p",
        "outputId": "3552eeb2-f8da-4f5f-a540-5fe4835cf98e"
      },
      "execution_count": 64,
      "outputs": [
        {
          "output_type": "stream",
          "name": "stdout",
          "text": [
            "5 X 0 = 0\n",
            "5 X 1 = 5\n",
            "5 X 2 = 10\n",
            "5 X 3 = 15\n",
            "5 X 4 = 20\n",
            "5 X 5 = 25\n",
            "5 X 6 = 30\n",
            "5 X 7 = 35\n",
            "5 X 8 = 40\n",
            "5 X 9 = 45\n",
            "Skip the Iteration\n",
            "5 X 11 = 55\n"
          ]
        }
      ]
    },
    {
      "cell_type": "code",
      "source": [
        " # Emmulate do while loop\n",
        "\n",
        " i=0\n",
        " while True:\n",
        "   print(i)\n",
        "   i=i+1\n",
        "   if(i%100==0):\n",
        "     break\n"
      ],
      "metadata": {
        "colab": {
          "base_uri": "https://localhost:8080/"
        },
        "id": "JJuvar3cMNo_",
        "outputId": "bd37ce64-3a33-4a54-e1b5-4c477ffe8a70"
      },
      "execution_count": 66,
      "outputs": [
        {
          "output_type": "stream",
          "name": "stdout",
          "text": [
            "0\n",
            "1\n",
            "2\n",
            "3\n",
            "4\n",
            "5\n",
            "6\n",
            "7\n",
            "8\n",
            "9\n",
            "10\n",
            "11\n",
            "12\n",
            "13\n",
            "14\n",
            "15\n",
            "16\n",
            "17\n",
            "18\n",
            "19\n",
            "20\n",
            "21\n",
            "22\n",
            "23\n",
            "24\n",
            "25\n",
            "26\n",
            "27\n",
            "28\n",
            "29\n",
            "30\n",
            "31\n",
            "32\n",
            "33\n",
            "34\n",
            "35\n",
            "36\n",
            "37\n",
            "38\n",
            "39\n",
            "40\n",
            "41\n",
            "42\n",
            "43\n",
            "44\n",
            "45\n",
            "46\n",
            "47\n",
            "48\n",
            "49\n",
            "50\n",
            "51\n",
            "52\n",
            "53\n",
            "54\n",
            "55\n",
            "56\n",
            "57\n",
            "58\n",
            "59\n",
            "60\n",
            "61\n",
            "62\n",
            "63\n",
            "64\n",
            "65\n",
            "66\n",
            "67\n",
            "68\n",
            "69\n",
            "70\n",
            "71\n",
            "72\n",
            "73\n",
            "74\n",
            "75\n",
            "76\n",
            "77\n",
            "78\n",
            "79\n",
            "80\n",
            "81\n",
            "82\n",
            "83\n",
            "84\n",
            "85\n",
            "86\n",
            "87\n",
            "88\n",
            "89\n",
            "90\n",
            "91\n",
            "92\n",
            "93\n",
            "94\n",
            "95\n",
            "96\n",
            "97\n",
            "98\n",
            "99\n"
          ]
        }
      ]
    },
    {
      "cell_type": "code",
      "source": [],
      "metadata": {
        "id": "elNjI1oePECY"
      },
      "execution_count": null,
      "outputs": []
    }
  ],
  "metadata": {
    "colab": {
      "provenance": [],
      "authorship_tag": "ABX9TyMhP/gLJGY1bFjmfpAad9lb",
      "include_colab_link": true
    },
    "kernelspec": {
      "display_name": "Python 3",
      "name": "python3"
    },
    "language_info": {
      "name": "python"
    }
  },
  "nbformat": 4,
  "nbformat_minor": 0
}