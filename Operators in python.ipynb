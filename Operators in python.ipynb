{
  "nbformat": 4,
  "nbformat_minor": 0,
  "metadata": {
    "colab": {
      "provenance": [],
      "authorship_tag": "ABX9TyPLEQbqjrJk8ZDnIeADG3tS",
      "include_colab_link": true
    },
    "kernelspec": {
      "name": "python3",
      "display_name": "Python 3"
    },
    "language_info": {
      "name": "python"
    }
  },
  "cells": [
    {
      "cell_type": "markdown",
      "metadata": {
        "id": "view-in-github",
        "colab_type": "text"
      },
      "source": [
        "<a href=\"https://colab.research.google.com/github/Sangitakumarik/Sangita/blob/main/Operators%20in%20python.ipynb\" target=\"_parent\"><img src=\"https://colab.research.google.com/assets/colab-badge.svg\" alt=\"Open In Colab\"/></a>"
      ]
    },
    {
      "cell_type": "markdown",
      "source": [
        "**Operators in Python**"
      ],
      "metadata": {
        "id": "EolFxbKOmG7M"
      }
    },
    {
      "cell_type": "code",
      "source": [
        "print(5+6)\n",
        "print(5-6)\n",
        "print(5*6)\n",
        "print(15/6)\n",
        "print(15//6)#Floor Divion operator\n",
        "print(10%3)#Modulo Operator(Gives Reminder)\n",
        "print(5**5)#For Power "
      ],
      "metadata": {
        "colab": {
          "base_uri": "https://localhost:8080/"
        },
        "id": "UX--m3Kgk3i5",
        "outputId": "fe56960b-6488-4594-bfb4-ebe334229b31"
      },
      "execution_count": 17,
      "outputs": [
        {
          "output_type": "stream",
          "name": "stdout",
          "text": [
            "11\n",
            "-1\n",
            "30\n",
            "2.5\n",
            "2\n",
            "1\n",
            "3125\n"
          ]
        }
      ]
    },
    {
      "cell_type": "code",
      "source": [
        "# Q1: - Create a calucltor using python (Switch case).\n",
        "a=int(input(\"Enter First no: \"))\n",
        "b=int(input(\"Enter Second no: \"))\n",
        "c=int(input(\" Enter 1 for addition\\n Enter 2 for substraction\\n Enter 3 for Division\\n Enter 4 for multiplication\\n Enter 5 for exponential\\n Enter 6 for Floor devision\\n\" ))\n",
        "if (c==1):\n",
        "  print(a+b)\n",
        "elif(c==2):\n",
        "  print(a-b)\n",
        "elif(c==3):\n",
        "    print(a/b)\n",
        "elif(c==4):\n",
        "  print(a*b)\n",
        "elif(c==5):\n",
        "  print(a**b)\n",
        "elif(c==6):\n",
        "  print(a//b)\n",
        "else:\n",
        "  print(\"Wrong Choice\")\n",
        "\n"
      ],
      "metadata": {
        "colab": {
          "base_uri": "https://localhost:8080/"
        },
        "id": "kGXyTtVmnpsp",
        "outputId": "262d9652-2002-4bda-80c8-0f67cd715bee"
      },
      "execution_count": 28,
      "outputs": [
        {
          "output_type": "stream",
          "name": "stdout",
          "text": [
            "Enter First no: 34\n",
            "Enter Second no: 6\n",
            " Enter 1 for addition\n",
            " Enter 2 for substraction\n",
            " Enter 3 for Division\n",
            " Enter 4 for multiplicatio\n",
            " Enter 5 for exponential\n",
            " Enter 6 for Floor devision\n",
            "6\n",
            "5\n"
          ]
        }
      ]
    },
    {
      "cell_type": "code",
      "source": [
        "\n",
        "# Q2: - Create a calucltor using python simple way.\n",
        "a=int(input(\"Enter 1st no  \"))\n",
        "b=int(input(\"Enter 2nd no  \"))\n",
        "print(\"Sum of\",a, \"and\",b, \"is :\", a+b)\n",
        "print(\"Sub is:\", a-b)\n",
        "print(\"multiplication is:\", a*b)\n",
        "print(\"Exponential is:\", a**b)\n",
        "print(\"Division is:\",a/b)\n",
        "print(\"Floor Division is:\", a//b)\n",
        "print(\"Modulo is:\",a%b)"
      ],
      "metadata": {
        "colab": {
          "base_uri": "https://localhost:8080/"
        },
        "id": "TK4X15t0sg7I",
        "outputId": "369a5dc9-e681-4e75-d281-f6e3e528d685"
      },
      "execution_count": 41,
      "outputs": [
        {
          "output_type": "stream",
          "name": "stdout",
          "text": [
            "Enter 1st no  15\n",
            "Enter 2nd no  4\n",
            "Sum of 15 and 4 is : 19\n",
            "Sub is: 11\n",
            "multiplication is: 60\n",
            "Exponential is: 50625\n",
            "Division is: 3.75\n",
            "Floor Division is: 3\n",
            "Modulo is: 3\n"
          ]
        }
      ]
    },
    {
      "cell_type": "code",
      "source": [],
      "metadata": {
        "id": "JprIU_shvrJu"
      },
      "execution_count": null,
      "outputs": []
    }
  ]
}