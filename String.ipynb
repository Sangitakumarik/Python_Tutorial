{
  "nbformat": 4,
  "nbformat_minor": 0,
  "metadata": {
    "colab": {
      "provenance": [],
      "authorship_tag": "ABX9TyNO4GSnhJ9Yza1GgfDUTy0K",
      "include_colab_link": true
    },
    "kernelspec": {
      "name": "python3",
      "display_name": "Python 3"
    },
    "language_info": {
      "name": "python"
    }
  },
  "cells": [
    {
      "cell_type": "markdown",
      "metadata": {
        "id": "view-in-github",
        "colab_type": "text"
      },
      "source": [
        "<a href=\"https://colab.research.google.com/github/Sangitakumarik/Sangita/blob/main/String.ipynb\" target=\"_parent\"><img src=\"https://colab.research.google.com/assets/colab-badge.svg\" alt=\"Open In Colab\"/></a>"
      ]
    },
    {
      "cell_type": "markdown",
      "source": [
        "#STRING\n",
        "In Python, anything that you inclose between single or double quotation mark is considered as a string. A string is sequence or array of texual data. String are used when working with Unicode characters. strings are immutable (not change) in nature."
      ],
      "metadata": {
        "id": "e1U65IcFoQ-5"
      }
    },
    {
      "cell_type": "code",
      "source": [
        "Name = \"Sangita\"\n",
        "Friend = \"pooja\"\n",
        "AnotherFriend =\" \" \" Ram is her friend and he also likes to eat apple \" \" \"\n",
        "Apple = 'She said \"she want to eat an apple\".'\n",
        "print(\"Hello \" + Name)\n",
        "print(\"Hello \" + Apple)\n",
        "print(\"She said\" + AnotherFriend )"
      ],
      "metadata": {
        "colab": {
          "base_uri": "https://localhost:8080/"
        },
        "id": "m9t811Z5pHbu",
        "outputId": "fdf34941-430a-4c68-824a-b5092dc65ee2"
      },
      "execution_count": null,
      "outputs": [
        {
          "output_type": "stream",
          "name": "stdout",
          "text": [
            "Hello Sangita\n",
            "Hello She said \"she want to eat an apple\".\n",
            "She said  Ram is her friend and he also likes to eat apple  \n"
          ]
        }
      ]
    },
    {
      "cell_type": "code",
      "source": [
        "#Count the no of character of Name.\n",
        "Name = \"SANGITA\"\n",
        "print(Name[0])\n",
        "print(Name[1])\n",
        "print(Name[2])\n",
        "print(Name[3])\n",
        "print(Name[4])\n",
        "print(Name[5])\n",
        "print(Name[6])\n"
      ],
      "metadata": {
        "colab": {
          "base_uri": "https://localhost:8080/"
        },
        "id": "7GfC3newsMxd",
        "outputId": "d1773174-b4ec-476a-d93a-f98c20ddeec5"
      },
      "execution_count": null,
      "outputs": [
        {
          "output_type": "stream",
          "name": "stdout",
          "text": [
            "S\n",
            "A\n",
            "N\n",
            "G\n",
            "I\n",
            "T\n",
            "A\n"
          ]
        }
      ]
    },
    {
      "cell_type": "code",
      "source": [
        "# Using loop Count the no of character of Name.\n",
        "Name = \"SANGITA\"\n",
        "for character in Name: \n",
        " print(character) \n",
        "for character in Friend:\n",
        " print(character)"
      ],
      "metadata": {
        "colab": {
          "base_uri": "https://localhost:8080/"
        },
        "id": "0Vm5WotxsVph",
        "outputId": "a0de29a1-7cfe-4555-bcc2-6a3f2f988d9e"
      },
      "execution_count": null,
      "outputs": [
        {
          "output_type": "stream",
          "name": "stdout",
          "text": [
            "S\n",
            "A\n",
            "N\n",
            "G\n",
            "I\n",
            "T\n",
            "A\n",
            "P\n",
            "o\n",
            "o\n",
            "j\n",
            "a\n"
          ]
        }
      ]
    },
    {
      "cell_type": "markdown",
      "source": [
        "#Slicing in string\n",
        "In Python, you can slice a string by using the colon (:) operator. The syntax for slicing a string is as follows:\n",
        "\n",
        "\n",
        "\n",
        "In Python, \"slicing\" refers to the process of extracting a portion of a sequence (e.g. a string, a list, or a tuple) by specifying a range of indices. Slicing allows you to extract a part of a sequence based on its position or index."
      ],
      "metadata": {
        "id": "evgdhS5_wole"
      }
    },
    {
      "cell_type": "code",
      "source": [
        "Name = \"Sangita\"\n",
        "length =len(Name)\n",
        "print(length)\n",
        "print(Name[0:7])#First index zero\n",
        "print(Name[:4])#Auto index as zero in python\n",
        "print(Name[1:4])\n",
        "print(Name[0:])#Auto last index no (i.e 7) taken by python\n",
        "print(Name[0:len(Name)-3])# Python automatically takes len(Name) in front of -3\n",
        "print(Name[0:-3])\n",
        "print(Name[-3:-1])\n",
        "print(Name[-7:-1])#Count from back\n",
        "print(Name[-7:])#Auto index took by python as 0.\n",
        "\n",
        "\n"
      ],
      "metadata": {
        "colab": {
          "base_uri": "https://localhost:8080/"
        },
        "id": "g7Dth-R8wsE5",
        "outputId": "3377179b-68ac-4da8-a449-a54603a2cb57"
      },
      "execution_count": null,
      "outputs": [
        {
          "output_type": "stream",
          "name": "stdout",
          "text": [
            "7\n",
            "Sangita\n",
            "Sang\n",
            "ang\n",
            "Sangita\n",
            "Sang\n",
            "Sang\n",
            "it\n",
            "Sangit\n",
            "Sangita\n"
          ]
        }
      ]
    },
    {
      "cell_type": "markdown",
      "source": [
        "# Methoods of string\n",
        "\n",
        "*   len() : To find the length of the character\n",
        "\n",
        "*   upper() : To change the character in to upper case.\n",
        "\n",
        "*   lower() : To change the character in lower case.\n",
        "\n",
        "*   rstrip() : Removes extra things or symbolls from end of the character only.\n",
        "\n",
        "*   split() : To split the character eith space we use split() with space.\n",
        "\n",
        "*   capitalize() : Makes first character capital and rest of them into lower    case.\n",
        "*   center() : Adds spaces and moves the character into center according to size given.\n",
        "*  count() : To count the no of element in string.\n",
        "*  endswith() : Check the value of ends and gives the results in  boolean i.e TRUE and FALSE.\n",
        "*  find() : To find the first occurrence of character.\n",
        "* index() : To find the index no of the string.\n",
        "* isalnum(): Returns True value  when entire string consists of A-Z, a-z, 0-9.if any other character or puntuations found it will returns FALSE.\n",
        "* islower(): Returns True if all the string are in lower case other wise false.\n",
        "* isupper(): Returns true if all the string are in upper case other wise false.\n",
        "* isprintable() : Returns True if all the values within the given string are in printable, if not then returns false.\n",
        "* isspace() : Returns True when string contains white spaces, else returns False.\n",
        "* istitle() :Returns true when first latter of each word of the  string are capital,else retuns False.\n",
        "* title() : The Title () capitalized each letter of the word within the string."
      ],
      "metadata": {
        "id": "RXa5FFQT2a_E"
      }
    },
    {
      "cell_type": "code",
      "source": [
        "a = \"*** Sita !!!!!!!!!!!!\"\n",
        "print(len(a))\n",
        "print(a.upper())\n",
        "print(a.lower())\n",
        "print(a.rstrip(\" !\")) #Removes extra things or symbolls from end of the character only.\n",
        "print(a.split(\" \"))\n",
        "print(a.split())\n",
        "blogheading = \"introduction to python and data SCIENCE\" #Makes first character capitalize and rest of them into lower case.\n",
        "print(blogheading.capitalize())\n",
        "heading = \"Welcome to python\"\n",
        "print(heading.center(50))# Adds spaces and moves the character into center according to size given.\n",
        "print(len(heading))\n",
        "print(len(blogheading))\n",
        "str1 = \"SANGITA KUMARI !!!\"\n",
        "print(str1.count(\"A\")) #Count A in string \" SANGITA\"\n",
        "\n"
      ],
      "metadata": {
        "colab": {
          "base_uri": "https://localhost:8080/"
        },
        "id": "evTjn9LZ28Dm",
        "outputId": "c4e1ecbb-bfd1-4342-8a93-e6254dbb8414"
      },
      "execution_count": null,
      "outputs": [
        {
          "output_type": "stream",
          "name": "stdout",
          "text": [
            "21\n",
            "*** SITA !!!!!!!!!!!!\n",
            "*** sita !!!!!!!!!!!!\n",
            "*** Sita\n",
            "['***', 'Sita', '!!!!!!!!!!!!']\n",
            "['***', 'Sita', '!!!!!!!!!!!!']\n",
            "Introduction to python and data science\n",
            "                Welcome to python                 \n",
            "17\n",
            "39\n",
            "3\n"
          ]
        }
      ]
    },
    {
      "cell_type": "code",
      "source": [
        "#endswith() \n",
        "str2 = \"SANGITA !!!!!\"\n",
        "print(str2.endswith(\"!!!\")) \n",
        "print(str2.endswith (\"A\", 4,10))\n",
        "print(str2.endswith(\"AN\",1,3))\n",
        "\n",
        "#startswith\n",
        "strr = \"!!!!SANGITA\"\n",
        "print(strr.startswith(\"!!!\"))\n",
        "print(strr.startswith(\"A\", 5,6)) \n"
      ],
      "metadata": {
        "colab": {
          "base_uri": "https://localhost:8080/"
        },
        "id": "01YQoKmH3JH3",
        "outputId": "a0a23fdd-40f4-4d63-b3f0-1b561b84bb21"
      },
      "execution_count": 53,
      "outputs": [
        {
          "output_type": "stream",
          "name": "stdout",
          "text": [
            "True\n",
            "False\n",
            "True\n",
            "True\n",
            "True\n"
          ]
        }
      ]
    },
    {
      "cell_type": "code",
      "source": [
        "#find()\n",
        "str3 = \" he's name is Ram\" \n",
        "print(str3.find(\"a\"))\n",
        "print(str3.find(\"h\"))\n",
        "print(str3.find(\"Rammmm\"))#It will display -1 when found unmatching index.\n"
      ],
      "metadata": {
        "id": "Wu_hAsIQBBvw",
        "colab": {
          "base_uri": "https://localhost:8080/"
        },
        "outputId": "22d6872d-057a-4bb9-dc98-53fa6fadbbb9"
      },
      "execution_count": 12,
      "outputs": [
        {
          "output_type": "stream",
          "name": "stdout",
          "text": [
            "7\n",
            "1\n",
            "-1\n"
          ]
        }
      ]
    },
    {
      "cell_type": "code",
      "source": [
        "#index ()\n",
        "str4 = \"My name is sangita 123\"\n",
        "print(str4.index(\"sangita\"))#index no will be 11\n",
        "# print(str4.index(\"sangitaaaaaaa\")) #Gives error when it  will not found the unmatching index no of element\n"
      ],
      "metadata": {
        "colab": {
          "base_uri": "https://localhost:8080/"
        },
        "id": "IwNOwufqeAbC",
        "outputId": "fbdae291-ac8e-44a9-c8dd-a3a6b36084bf"
      },
      "execution_count": 15,
      "outputs": [
        {
          "output_type": "stream",
          "name": "stdout",
          "text": [
            "11\n"
          ]
        }
      ]
    },
    {
      "cell_type": "code",
      "source": [
        "#isalnum() #Need to clear\n",
        "str5 = \"Hello\"\n",
        "print(str5.isalnum())"
      ],
      "metadata": {
        "colab": {
          "base_uri": "https://localhost:8080/"
        },
        "id": "v6rQBkOof7AR",
        "outputId": "f8dbcb71-2a92-426c-af61-b396c07e7cc0"
      },
      "execution_count": 27,
      "outputs": [
        {
          "output_type": "stream",
          "name": "stdout",
          "text": [
            "True\n"
          ]
        }
      ]
    },
    {
      "cell_type": "code",
      "source": [
        "#islower()\n",
        "str6 = \"python\"\n",
        "str7 = \"PYTHON\"\n",
        "print(str6.islower())\n",
        "print(str7.islower())"
      ],
      "metadata": {
        "colab": {
          "base_uri": "https://localhost:8080/"
        },
        "id": "9LQH5cokkaPD",
        "outputId": "a85838a3-4dba-4a42-cb1b-187bcdc74f74"
      },
      "execution_count": 30,
      "outputs": [
        {
          "output_type": "stream",
          "name": "stdout",
          "text": [
            "True\n",
            "False\n"
          ]
        }
      ]
    },
    {
      "cell_type": "code",
      "source": [
        "#isupper()\n",
        "str8 = \"DATA SCIENCE\"\n",
        "str9 = \"data science\"\n",
        "print(str8.isupper())\n",
        "print(str9.isupper())"
      ],
      "metadata": {
        "colab": {
          "base_uri": "https://localhost:8080/"
        },
        "id": "H5hsFfGUoPIT",
        "outputId": "2904969a-06f0-4384-b66d-7569171ad0ed"
      },
      "execution_count": 32,
      "outputs": [
        {
          "output_type": "stream",
          "name": "stdout",
          "text": [
            "True\n",
            "False\n"
          ]
        }
      ]
    },
    {
      "cell_type": "code",
      "source": [
        "#isprintable()\n",
        "str10 =\"Python is intresting programming Language\"\n",
        "str11 = \"Python is intresting programming Language \\n\" \n",
        "print(str10.isprintable())\n",
        "print(str11.isprintable())# Due to \\n it will retuns false because \\n is not a printable element."
      ],
      "metadata": {
        "colab": {
          "base_uri": "https://localhost:8080/"
        },
        "id": "or2OahCtoyXa",
        "outputId": "674828a0-367b-4aa7-deb0-3d425d7cb36c"
      },
      "execution_count": 34,
      "outputs": [
        {
          "output_type": "stream",
          "name": "stdout",
          "text": [
            "True\n",
            "False\n"
          ]
        }
      ]
    },
    {
      "cell_type": "code",
      "source": [
        "#isspace()\n",
        "str12 = \"         \" \n",
        "str13 = \"HELLLO\"\n",
        "print(str12.isspace())\n",
        "print(str13.isspace())"
      ],
      "metadata": {
        "colab": {
          "base_uri": "https://localhost:8080/"
        },
        "id": "u_WccIAyqmmq",
        "outputId": "a265fdee-184e-446f-ce74-3c8ef76ad2f2"
      },
      "execution_count": 37,
      "outputs": [
        {
          "output_type": "stream",
          "name": "stdout",
          "text": [
            "True\n",
            "False\n"
          ]
        }
      ]
    },
    {
      "cell_type": "code",
      "source": [
        "#istitle()\n",
        "str14 = \"Artificial Intelligence\"\n",
        "str15 =  \"artificial intelligence\"\n",
        "print(str14.istitle())\n",
        "print(str15.istitle())"
      ],
      "metadata": {
        "colab": {
          "base_uri": "https://localhost:8080/"
        },
        "id": "UWZh7yGOrpSB",
        "outputId": "b5db950d-3f46-4644-eb7f-768cc85ef28d"
      },
      "execution_count": 56,
      "outputs": [
        {
          "output_type": "stream",
          "name": "stdout",
          "text": [
            "True\n",
            "False\n"
          ]
        }
      ]
    },
    {
      "cell_type": "code",
      "source": [
        "str15 = \"ARTIFICIAL INTELLIGENCE\"\n",
        "str16 = \"data science\"\n",
        "print(str15.swapcase())\n",
        "print(str16.swapcase())\n"
      ],
      "metadata": {
        "colab": {
          "base_uri": "https://localhost:8080/"
        },
        "id": "zZ9PkIu1vXd1",
        "outputId": "3f3b1569-bdb9-4666-bce1-2c21c98c1deb"
      },
      "execution_count": 59,
      "outputs": [
        {
          "output_type": "stream",
          "name": "stdout",
          "text": [
            "artificial intelligence\n",
            "DATA SCIENCE\n"
          ]
        }
      ]
    },
    {
      "cell_type": "code",
      "source": [
        "str17 = \"my name is sangita kumari, i am the student of arka jain unversiry jamshedpur . \"\n",
        "print(str17.title())\n",
        "str18 = \"Hello\"\n",
        "str19 = \"hello\"\n",
        "print(str18.istitle()) #True when title starts with capital else false.\n",
        "print(str19.istitle()) #False because title starts with lower case or a small latter."
      ],
      "metadata": {
        "colab": {
          "base_uri": "https://localhost:8080/"
        },
        "id": "fdhtp279wAmj",
        "outputId": "0ae2ef05-1968-4de8-9b4e-245c6c4bd635"
      },
      "execution_count": 70,
      "outputs": [
        {
          "output_type": "stream",
          "name": "stdout",
          "text": [
            "My Name Is Sangita Kumari, I Am The Student Of Arka Jain Unversiry Jamshedpur . \n",
            "True\n",
            "False\n"
          ]
        }
      ]
    }
  ]
}