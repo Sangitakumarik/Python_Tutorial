{
  "nbformat": 4,
  "nbformat_minor": 0,
  "metadata": {
    "colab": {
      "provenance": [],
      "authorship_tag": "ABX9TyOWsNiSslXcCBnf0seCAZnz",
      "include_colab_link": true
    },
    "kernelspec": {
      "name": "python3",
      "display_name": "Python 3"
    },
    "language_info": {
      "name": "python"
    }
  },
  "cells": [
    {
      "cell_type": "markdown",
      "metadata": {
        "id": "view-in-github",
        "colab_type": "text"
      },
      "source": [
        "<a href=\"https://colab.research.google.com/github/Sangitakumarik/Sangita/blob/main/Loop.ipynb\" target=\"_parent\"><img src=\"https://colab.research.google.com/assets/colab-badge.svg\" alt=\"Open In Colab\"/></a>"
      ]
    },
    {
      "cell_type": "markdown",
      "source": [
        "##LOOP\n",
        " To repeatating group of statement a certain no of times is calles loop, based on this loops are further classified in to following main types:\n",
        "* For Loop\n",
        "* While Loop\n",
        "\n",
        "## For Loop\n",
        "\n",
        "For loops can iterate over a sequence of itarable objects in python. Iterating over a sequence is nothing but iterating over string,lists, Tuples, sets and dictionaries."
      ],
      "metadata": {
        "id": "TV23uCBJk3x6"
      }
    },
    {
      "cell_type": "code",
      "execution_count": null,
      "metadata": {
        "colab": {
          "base_uri": "https://localhost:8080/"
        },
        "id": "56gNQhOpi0oO",
        "outputId": "e1c6143c-e3af-42c2-9b53-378002395cb2"
      },
      "outputs": [
        {
          "output_type": "stream",
          "name": "stdout",
          "text": [
            "1\n",
            "2\n",
            "3\n",
            "4\n",
            "5\n",
            "6\n",
            "7\n",
            "8\n",
            "9\n"
          ]
        }
      ],
      "source": [
        "for i in range(1,10): # Range exmple\n",
        "  print(i)"
      ]
    },
    {
      "cell_type": "markdown",
      "source": [],
      "metadata": {
        "id": "HKV-PTvck2B7"
      }
    },
    {
      "cell_type": "code",
      "source": [
        "# Loop in String\n",
        "name = \"Sangita\"\n",
        "for i in name:\n",
        "  print (i)"
      ],
      "metadata": {
        "colab": {
          "base_uri": "https://localhost:8080/"
        },
        "id": "9Jhl8X3ykQHT",
        "outputId": "057903b0-0ac2-4995-dc67-408944ae4471"
      },
      "execution_count": null,
      "outputs": [
        {
          "output_type": "stream",
          "name": "stdout",
          "text": [
            "S\n",
            "a\n",
            "n\n",
            "g\n",
            "i\n",
            "t\n",
            "a\n"
          ]
        }
      ]
    },
    {
      "cell_type": "code",
      "source": [
        "# Lopp in List\n",
        "\n",
        "colors =[\"RED\", \"BLUE\", \"GREEN\", \"YELLOW\", \"PINK\"]\n",
        "for color in colors:\n",
        "  print(color)\n",
        "  for i in color:\n",
        "    print(i)"
      ],
      "metadata": {
        "colab": {
          "base_uri": "https://localhost:8080/"
        },
        "id": "HBEbVblonOag",
        "outputId": "c1e02fdb-e076-4c68-d845-7b451afc01ad"
      },
      "execution_count": null,
      "outputs": [
        {
          "output_type": "stream",
          "name": "stdout",
          "text": [
            "RED\n",
            "R\n",
            "E\n",
            "D\n",
            "BLUE\n",
            "B\n",
            "L\n",
            "U\n",
            "E\n",
            "GREEN\n",
            "G\n",
            "R\n",
            "E\n",
            "E\n",
            "N\n",
            "YELLOW\n",
            "Y\n",
            "E\n",
            "L\n",
            "L\n",
            "O\n",
            "W\n",
            "PINK\n",
            "P\n",
            "I\n",
            "N\n",
            "K\n"
          ]
        }
      ]
    },
    {
      "cell_type": "code",
      "source": [
        "# Range\n",
        "\n",
        "for i in range(5):\n",
        "  print(i)"
      ],
      "metadata": {
        "colab": {
          "base_uri": "https://localhost:8080/"
        },
        "id": "_BDTpiFPoBxA",
        "outputId": "40da2c6f-194b-40b9-f1b2-cac25e2299b3"
      },
      "execution_count": null,
      "outputs": [
        {
          "output_type": "stream",
          "name": "stdout",
          "text": [
            "0\n",
            "1\n",
            "2\n",
            "3\n",
            "4\n"
          ]
        }
      ]
    },
    {
      "cell_type": "code",
      "source": [
        "for i in range(1,10):\n",
        "  print(i)"
      ],
      "metadata": {
        "id": "_gkqmnAHonwU"
      },
      "execution_count": null,
      "outputs": []
    },
    {
      "cell_type": "code",
      "source": [
        "for i in range(1,12,3): #skip 3 nos\n",
        "  print(i)"
      ],
      "metadata": {
        "colab": {
          "base_uri": "https://localhost:8080/"
        },
        "id": "jj_z8RFBozgC",
        "outputId": "90387921-863e-4ed1-e8c0-8ac633750d4f"
      },
      "execution_count": null,
      "outputs": [
        {
          "output_type": "stream",
          "name": "stdout",
          "text": [
            "1\n",
            "4\n",
            "7\n",
            "10\n"
          ]
        }
      ]
    },
    {
      "cell_type": "code",
      "source": [
        "for i in range(1,10):\n",
        "  if (i % 2 == 0):\n",
        "    print (i ,\" is even\")\n",
        "  else:\n",
        "    print(i, \" Is odd\")"
      ],
      "metadata": {
        "colab": {
          "base_uri": "https://localhost:8080/"
        },
        "id": "qOaBtZDEpSIb",
        "outputId": "a1bb6fee-3dfd-4697-d086-f70cfabc945b"
      },
      "execution_count": null,
      "outputs": [
        {
          "output_type": "stream",
          "name": "stdout",
          "text": [
            "1  Is odd\n",
            "2  is even\n",
            "3  Is odd\n",
            "4  is even\n",
            "5  Is odd\n",
            "6  is even\n",
            "7  Is odd\n",
            "8  is even\n",
            "9  Is odd\n"
          ]
        }
      ]
    },
    {
      "cell_type": "code",
      "source": [],
      "metadata": {
        "id": "paurLx0ipzfI"
      },
      "execution_count": null,
      "outputs": []
    }
  ]
}