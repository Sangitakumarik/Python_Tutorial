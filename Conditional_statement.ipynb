{
  "nbformat": 4,
  "nbformat_minor": 0,
  "metadata": {
    "colab": {
      "provenance": [],
      "authorship_tag": "ABX9TyOeOm/+/qvoC22gQInfg/bO",
      "include_colab_link": true
    },
    "kernelspec": {
      "name": "python3",
      "display_name": "Python 3"
    },
    "language_info": {
      "name": "python"
    }
  },
  "cells": [
    {
      "cell_type": "markdown",
      "metadata": {
        "id": "view-in-github",
        "colab_type": "text"
      },
      "source": [
        "<a href=\"https://colab.research.google.com/github/Sangitakumarik/Sangita/blob/main/Conditional_statement.ipynb\" target=\"_parent\"><img src=\"https://colab.research.google.com/assets/colab-badge.svg\" alt=\"Open In Colab\"/></a>"
      ]
    },
    {
      "cell_type": "code",
      "execution_count": null,
      "metadata": {
        "id": "i_PZkz-op-ph"
      },
      "outputs": [],
      "source": []
    },
    {
      "cell_type": "markdown",
      "source": [
        "##IF ELSE CONDITIONS\n",
        "#The if statement evaluates condition.\n",
        "\n",
        "* If condition is evaluated to True, the code inside the body of if is executed.\n",
        "* If condition is evaluated to False, the code inside the body of if is skipped."
      ],
      "metadata": {
        "id": "mcv1vcTqrV7x"
      }
    },
    {
      "cell_type": "code",
      "source": [
        "a=int(input(\"Enter your age: \"))\n",
        "print(\"your age is : \",a)\n",
        "if(a>=18):\n",
        "  print(\"You can vote\")\n",
        "else:\n",
        "  print(\"you can't vote\")                                                                                                                                                                                                                                                                                                                                                                                                                                                                                                                                                                                                                          "
      ],
      "metadata": {
        "colab": {
          "base_uri": "https://localhost:8080/"
        },
        "id": "eWDMi0KUsC-Z",
        "outputId": "b6d8cf2d-0fd6-483b-edf3-aeaa745cd524"
      },
      "execution_count": null,
      "outputs": [
        {
          "output_type": "stream",
          "name": "stdout",
          "text": [
            "Enter your age: 7\n",
            "your age is :  7\n",
            "you can't vote\n"
          ]
        }
      ]
    },
    {
      "cell_type": "code",
      "source": [
        "#conditional operators: <,>,<=,>=,==,!= \n",
        "a=int(input(\"Enter your age: \"))\n",
        "print(\"your age is : \",a)\n",
        "print(a>18)\n",
        "print(a<=18)\n",
        "print(a==18)\n",
        "print(a!=18)\n",
        "if(a>=18):\n",
        "  print(\"You can vote\")\n",
        "else:\n",
        "  print(\"you can't vote\") "
      ],
      "metadata": {
        "colab": {
          "base_uri": "https://localhost:8080/"
        },
        "id": "NNRqvVA7tFlk",
        "outputId": "1df9d906-5dde-42d5-f8b8-a3fef868395e"
      },
      "execution_count": null,
      "outputs": [
        {
          "output_type": "stream",
          "name": "stdout",
          "text": [
            "Enter your age: 9\n",
            "your age is :  9\n",
            "False\n",
            "True\n",
            "False\n",
            "True\n",
            "you can't vote\n"
          ]
        }
      ]
    },
    {
      "cell_type": "markdown",
      "source": [
        "# else-if statement\n",
        "* It checks the if statement condition. If that is false, the elif statement is evaluated. In case the elif condition is false, the else statement is evaluated."
      ],
      "metadata": {
        "id": "Nt2ixABL3Dnq"
      }
    },
    {
      "cell_type": "code",
      "source": [
        "# ELSE IF CONDITION\n",
        "n = int(input(\"Enter a no: \"))\n",
        "if (n<0):\n",
        "  print(\"Negative No\")\n",
        "elif(n==0):\n",
        "  print(\"zero\")\n",
        "elif(n==999):\n",
        "  print(\"No is special\")\n",
        "else:\n",
        "  print(\"No is positive\")\n",
        "print(\"I am Happy now !!!!\")#Always run because it is out side of the identation(out side the block)."
      ],
      "metadata": {
        "id": "NIZNj-96uZf8"
      },
      "execution_count": null,
      "outputs": []
    },
    {
      "cell_type": "markdown",
      "source": [
        "# Nested if statement\n",
        "* When an if a statement is present inside another if statement, it is called a nested IF statement. This situation occurs when you have to filter a variable multiple times.\n"
      ],
      "metadata": {
        "id": "L7wxHbx23isq"
      }
    },
    {
      "cell_type": "code",
      "source": [
        "var = int(input(\"enter the value:\"))\n",
        "if var < 200:\n",
        "   print (\"Expression value is less than 200\")\n",
        "   if var == 150:\n",
        "      print (\"Which is 150\")\n",
        "   elif var == 100:\n",
        "      print (\"Which is 100\")\n",
        "   elif var == 50:\n",
        "      print (\"Which is 50\")\n",
        "   elif var < 50:\n",
        "      print (\"Expression value is less than 50\")\n",
        "else:\n",
        "   print (\"Could not find true expression\")\n",
        "\n",
        "print (\"Good bye!\")"
      ],
      "metadata": {
        "id": "VK1o06U80ewC"
      },
      "execution_count": null,
      "outputs": []
    },
    {
      "cell_type": "markdown",
      "source": [
        "# Q1: wish Good mornining , Good after noon, and Good evenining according to the time module."
      ],
      "metadata": {
        "id": "ZclIOF399OR6"
      }
    },
    {
      "cell_type": "code",
      "source": [
        "import time\n",
        "timestamp = time.strftime('%H:%M:%S')\n",
        "print(timestamp)\n",
        "timestamp = int(time.strftime('%H'))\n",
        "print(timestamp)\n",
        "\n",
        "\n"
      ],
      "metadata": {
        "id": "Qu4iZkkg9wrM"
      },
      "execution_count": null,
      "outputs": []
    },
    {
      "cell_type": "code",
      "source": [
        "from datetime import datetime\n",
        "import pytz\n",
        "\n",
        "india = datetime.now(pytz.timezone('Asia/Kolkata'))\n",
        "\n",
        "n=input(\"Enter Your name:\") \n",
        "h = int(india.strftime('%H'))\n",
        "m = int(india.strftime('%M'))\n",
        "s = int(india.strftime('%S'))\n",
        "t = \"{}:{}:{}\".format(h,m,s)\n",
        "print('The Current time in your area is:-',t)\n",
        "if (h>4 and h<12):\n",
        " print(\"Good Morning!!!!!!!\",n)\n",
        "\n",
        "elif(h>=12 and h<17):\n",
        "  print(\"Good after noon !!!!!!!!!!!\",n)\n",
        "\n",
        "elif(h>=17 and h<20):\n",
        "  print(\"Good Evening!!!!!!!!!!!!!\",n)\n",
        "\n",
        "else:\n",
        "  print(\"Good Night!!!!!!!!\",n)\n"
      ],
      "metadata": {
        "id": "b9uiafom-t3g"
      },
      "execution_count": null,
      "outputs": []
    },
    {
      "cell_type": "code",
      "source": [
        "import time\n",
        "import pytz\n",
        "india = datetime.now(pytz.timezone('Asia/Kolkata'))\n",
        "print(india)\n"
      ],
      "metadata": {
        "id": "9Vsn7pUDoJmk"
      },
      "execution_count": null,
      "outputs": []
    },
    {
      "cell_type": "code",
      "source": [
        "fruit=int(input(\"\"))\n",
        "match fruit:\n",
        "        case 1:\n",
        "            print(\"This is an apple\")\n",
        "        case 2:\n",
        "            print(\"This is a banana\")\n",
        "        case 3:\n",
        "            print(\"This is an orange\")\n",
        "        case _:\n",
        "            print(\"I don't know what this fruit is\")\n",
        "\n"
      ],
      "metadata": {
        "id": "L0rhfBmJn5s6"
      },
      "execution_count": null,
      "outputs": []
    },
    {
      "cell_type": "code",
      "source": [
        "import sys\n",
        "print(sys.version)"
      ],
      "metadata": {
        "id": "wWlOdKIxwYbn"
      },
      "execution_count": null,
      "outputs": []
    },
    {
      "cell_type": "code",
      "source": [],
      "metadata": {
        "id": "Gqt6TlNayW0y"
      },
      "execution_count": null,
      "outputs": []
    }
  ]
}