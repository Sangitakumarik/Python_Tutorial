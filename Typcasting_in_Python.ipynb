{
  "nbformat": 4,
  "nbformat_minor": 0,
  "metadata": {
    "colab": {
      "provenance": [],
      "authorship_tag": "ABX9TyO0yTxviCsqkq/cYUThcMs/",
      "include_colab_link": true
    },
    "kernelspec": {
      "name": "python3",
      "display_name": "Python 3"
    },
    "language_info": {
      "name": "python"
    }
  },
  "cells": [
    {
      "cell_type": "markdown",
      "metadata": {
        "id": "view-in-github",
        "colab_type": "text"
      },
      "source": [
        "<a href=\"https://colab.research.google.com/github/Sangitakumarik/Sangita/blob/main/Typcasting_in_Python.ipynb\" target=\"_parent\"><img src=\"https://colab.research.google.com/assets/colab-badge.svg\" alt=\"Open In Colab\"/></a>"
      ]
    },
    {
      "cell_type": "markdown",
      "source": [],
      "metadata": {
        "id": "-MNs7G5RymE_"
      }
    },
    {
      "cell_type": "markdown",
      "source": [
        "#Typcasting in Python\n",
        "\n",
        "The conversion of one datatype into another datatype is known as type casting in python or type conversion in python."
      ],
      "metadata": {
        "id": "14WH_SQGynNA"
      }
    },
    {
      "cell_type": "code",
      "source": [
        "a=\"1\"\n",
        "b=\"2\"\n",
        "print(a+b)#it takes string value\n",
        "print(int(a)+int(b))#It takes Integer value"
      ],
      "metadata": {
        "id": "EsAk49BL1mgF",
        "colab": {
          "base_uri": "https://localhost:8080/"
        },
        "outputId": "a8175dc2-5393-4edc-83c0-17d566623b9d"
      },
      "execution_count": 8,
      "outputs": [
        {
          "output_type": "stream",
          "name": "stdout",
          "text": [
            "12\n",
            "3\n"
          ]
        }
      ]
    },
    {
      "cell_type": "code",
      "source": [
        "a=\"sangita \"\n",
        "b=\"kumari\"\n",
        "print(a+b)\n"
      ],
      "metadata": {
        "id": "pXewlKCpyrNY",
        "colab": {
          "base_uri": "https://localhost:8080/"
        },
        "outputId": "1fc71453-d27e-429b-bb17-5f322415f547"
      },
      "execution_count": 11,
      "outputs": [
        {
          "output_type": "stream",
          "name": "stdout",
          "text": [
            "sangita kumari\n"
          ]
        }
      ]
    },
    {
      "cell_type": "code",
      "source": [
        "a=\"2.3\"\n",
        "b=\"2\"\n",
        "c=float(a)+int(b)\n",
        "print(type(c))\n",
        "print(c)"
      ],
      "metadata": {
        "colab": {
          "base_uri": "https://localhost:8080/"
        },
        "id": "bokiR_KBwEtt",
        "outputId": "e5ff721b-892c-4272-daed-77fd034888af"
      },
      "execution_count": 28,
      "outputs": [
        {
          "output_type": "stream",
          "name": "stdout",
          "text": [
            "<class 'float'>\n",
            "4.3\n"
          ]
        }
      ]
    },
    {
      "cell_type": "code",
      "source": [
        "a=\"2.3\"\n",
        "b=\"2\"\n",
        "c=int(float(a))+int(b)\n",
        "print(type(c))\n",
        "print(c) "
      ],
      "metadata": {
        "colab": {
          "base_uri": "https://localhost:8080/"
        },
        "id": "98vNzwu0wbhG",
        "outputId": "949b3ec9-bec4-46a2-859d-b8118ca634e3"
      },
      "execution_count": 27,
      "outputs": [
        {
          "output_type": "stream",
          "name": "stdout",
          "text": [
            "<class 'int'>\n",
            "4\n"
          ]
        }
      ]
    },
    {
      "cell_type": "code",
      "source": [
        "a=\"2.3\"\n",
        "b=\"2\"\n",
        "c=eval(a)+eval(b)\n",
        "print(c) "
      ],
      "metadata": {
        "colab": {
          "base_uri": "https://localhost:8080/"
        },
        "id": "IaHsaE71xDHW",
        "outputId": "cc502815-1f43-425a-8336-4b638ba5b0cf"
      },
      "execution_count": 20,
      "outputs": [
        {
          "output_type": "stream",
          "name": "stdout",
          "text": [
            "4.3\n"
          ]
        }
      ]
    },
    {
      "cell_type": "code",
      "source": [
        "a=\"2.3\"\n",
        "b=\"2\"\n",
        "c=a+b\n",
        "print(type(c))"
      ],
      "metadata": {
        "colab": {
          "base_uri": "https://localhost:8080/"
        },
        "id": "t8fr156ixqc0",
        "outputId": "cb8ca00e-e940-4b03-8294-b4f70b326d0d"
      },
      "execution_count": 26,
      "outputs": [
        {
          "output_type": "stream",
          "name": "stdout",
          "text": [
            "<class 'str'>\n"
          ]
        }
      ]
    }
  ]
}